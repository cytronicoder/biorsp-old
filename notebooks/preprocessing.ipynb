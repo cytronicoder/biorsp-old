{
 "cells": [
  {
   "cell_type": "markdown",
   "metadata": {},
   "source": [
    "# Preprocessing the DGE data\n",
    "To preprocess your data, we recommend the following steps:\n",
    "1. Calculate total UMIs/cell and filter cells with low total UMIs (`threshold_umi`)\n",
    "2. Remove genes that are expressed in too few cells (`threshold_gene`)\n",
    "3. Normalize the data using CPM (counts per million)\n",
    "\n",
    "Optionally, you may wish to isolate the top `top_n_genes` genes for downstream analysis, but for now we will not do that — we will use all preprocessed genes in the bioRSP analysis."
   ]
  },
  {
   "cell_type": "code",
   "execution_count": 1,
   "metadata": {},
   "outputs": [],
   "source": [
    "import pandas as pd\n",
    "import matplotlib.pyplot as plt"
   ]
  },
  {
   "cell_type": "code",
   "execution_count": 2,
   "metadata": {},
   "outputs": [],
   "source": [
    "threshold_umi = 500\n",
    "threshold_gene = 1\n",
    "\n",
    "# Optional\n",
    "top_n_genes = 20"
   ]
  },
  {
   "cell_type": "code",
   "execution_count": 3,
   "metadata": {},
   "outputs": [
    {
     "name": "stdout",
     "output_type": "stream",
     "text": [
      "num. genes: 19493, num. cells: 10000\n"
     ]
    }
   ],
   "source": [
    "dge_matrix = pd.read_csv('data/MCA2.dge.txt', delimiter='\\t', index_col=0)\n",
    "print(f\"num. genes: {dge_matrix.shape[0]}, num. cells: {dge_matrix.shape[1]}\")"
   ]
  },
  {
   "cell_type": "code",
   "execution_count": 4,
   "metadata": {},
   "outputs": [
    {
     "data": {
      "image/png": "[encoded data removed]",
      "text/plain": [
       "<Figure size 640x480 with 1 Axes>"
      ]
     },
     "metadata": {},
     "output_type": "display_data"
    },
    {
     "name": "stdout",
     "output_type": "stream",
     "text": [
      "num. cells filtered out: 4945\n"
     ]
    }
   ],
   "source": [
    "umi_counts_per_cell = dge_matrix.sum(axis=0)\n",
    "\n",
    "# Plot UMI counts distribution\n",
    "plt.hist(umi_counts_per_cell, bins=50)\n",
    "plt.xlabel('UMI counts')\n",
    "plt.ylabel('Number of cells')\n",
    "plt.show()\n",
    "\n",
    "# Filter cells with low total UMI counts\n",
    "filtered_cells = umi_counts_per_cell[umi_counts_per_cell > threshold_umi].index\n",
    "dge_matrix_filtered = dge_matrix[filtered_cells]\n",
    "\n",
    "print(f\"num. cells filtered out: {dge_matrix.shape[1] - dge_matrix_filtered.shape[1]}\")"
   ]
  },
  {
   "cell_type": "code",
   "execution_count": 5,
   "metadata": {},
   "outputs": [
    {
     "name": "stdout",
     "output_type": "stream",
     "text": [
      "num. genes filtered out: 3362\n"
     ]
    }
   ],
   "source": [
    "# Filter genes expressed in fewer than a threshold number of cells\n",
    "gene_counts_per_cell = (dge_matrix_filtered > 0).sum(axis=1)\n",
    "filtered_genes = gene_counts_per_cell[gene_counts_per_cell > threshold_gene].index\n",
    "dge_matrix_filtered = dge_matrix_filtered.loc[filtered_genes]\n",
    "\n",
    "print(f\"num. genes filtered out: {dge_matrix.shape[0] - dge_matrix_filtered.shape[0]}\")"
   ]
  },
  {
   "cell_type": "code",
   "execution_count": 6,
   "metadata": {},
   "outputs": [],
   "source": [
    "dge_matrix_filtered.to_csv('data/MCA2_filtered.dge.txt', sep='\\t')"
   ]
  },
  {
   "cell_type": "code",
   "execution_count": 7,
   "metadata": {},
   "outputs": [],
   "source": [
    "# Optional: Calculate variance and select top highly variable genes\n",
    "gene_variance = dge_matrix_filtered.var(axis=1)\n",
    "hv_genes = gene_variance.nlargest(top_n_genes).index\n",
    "hv_gene_matrix = dge_matrix_filtered.loc[hv_genes]\n",
    "\n",
    "hv_genes = pd.DataFrame(hv_genes)\n",
    "hv_genes.to_csv('data/MCA2.hv_genes.txt', sep='\\t')\n",
    "hv_gene_matrix.to_csv('data/MCA2_hv_gene_matrix.dge.txt', sep='\\t')"
   ]
  }
 ],
 "metadata": {
  "kernelspec": {
   "display_name": ".venv",
   "language": "python",
   "name": "python3"
  },
  "language_info": {
   "codemirror_mode": {
    "name": "ipython",
    "version": 3
   },
   "file_extension": ".py",
   "mimetype": "text/x-python",
   "name": "python",
   "nbconvert_exporter": "python",
   "pygments_lexer": "ipython3",
   "version": "3.10.9"
  }
 },
 "nbformat": 4,
 "nbformat_minor": 2
}
