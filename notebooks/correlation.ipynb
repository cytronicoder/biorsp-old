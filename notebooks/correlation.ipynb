{
 "cells": [
  {
   "cell_type": "markdown",
   "metadata": {},
   "source": [
    "# Correlation analysis\n",
    "\n",
    "This notebook demonstrates how to calculate the correlation between two RSP profiles. The correlation coefficient is a measure of the similarity between two RSP profiles. The correlation coefficient ranges from -1 to 1. A value of 1 indicates a perfect positive correlation, a value of -1 indicates a perfect negative correlation, and a value of 0 indicates no correlation.\n",
    "\n",
    "Additionally, the script also calculates the Euclidean distance and Mean Squared Error (MSE) between the two RSP profiles. A smaller value indicates a more similar RSP profile, while a larger value indicates a more different RSP profile."
   ]
  },
  {
   "cell_type": "code",
   "execution_count": 15,
   "metadata": {},
   "outputs": [],
   "source": [
    "# Import necessary libraries\n",
    "import numpy as np\n",
    "import pandas as pd\n",
    "\n",
    "from ipynb.fs.full.biorsp import (\n",
    "    find_foreground_background_points,\n",
    "    calculate_rsp_area,\n",
    ")\n",
    "\n",
    "from scipy.stats import pearsonr"
   ]
  },
  {
   "cell_type": "code",
   "execution_count": 16,
   "metadata": {},
   "outputs": [],
   "source": [
    "# Load your data\n",
    "dge_matrix = pd.read_csv(\"data/MCA2_filtered.dge.txt\", sep=\"\\t\", index_col=0)\n",
    "tsne_results = pd.read_csv(\"embeddings/tsne_results.csv\").to_numpy()\n",
    "dbscan_results = pd.read_csv(\"embeddings/tsne_dbscan_results.csv\")"
   ]
  },
  {
   "cell_type": "code",
   "execution_count": 17,
   "metadata": {},
   "outputs": [],
   "source": [
    "gene_a = 'Actc1'\n",
    "gene_b = 'Tnnt2'"
   ]
  },
  {
   "cell_type": "code",
   "execution_count": 18,
   "metadata": {},
   "outputs": [],
   "source": [
    "threshold = 1 # Define the threshold for foreground points - default is 1\n",
    "clusters = [1] # Define the clusters to be considered as foreground - default is None (look at all clusters)\n",
    "scanning_window=np.pi / 2 # Define the scanning window - default is pi/2\n",
    "resolution=1000 # Define the resolution - default is 1000\n",
    "angle_range=np.array([0, 2 * np.pi]) # Define the angle range - default is [0, 2*pi]\n",
    "mode=\"absolute\",  # Define the mode for CDFs - default is \"absolute\""
   ]
  },
  {
   "cell_type": "code",
   "execution_count": 19,
   "metadata": {},
   "outputs": [],
   "source": [
    "foreground_points_A, background_points_A = find_foreground_background_points(\n",
    "    gene_name=gene_a,\n",
    "    dge_matrix=dge_matrix,\n",
    "    tsne_results=tsne_results,\n",
    "    dbscan_df=dbscan_results,\n",
    "    threshold=threshold,\n",
    "    selected_clusters=clusters\n",
    ")\n",
    "vantage_point_A = np.mean(background_points_A, axis=0)\n",
    "rsp_area_A, differences_A, rmsd_A = calculate_rsp_area(\n",
    "    fg_points=foreground_points_A,\n",
    "    bg_points=background_points_A,\n",
    "    vantage_point=vantage_point_A,\n",
    "    scanning_window=scanning_window,\n",
    "    resolution=resolution,\n",
    "    angle_range=angle_range,\n",
    "    mode=mode\n",
    ")"
   ]
  },
  {
   "cell_type": "code",
   "execution_count": 20,
   "metadata": {},
   "outputs": [],
   "source": [
    "foreground_points_B, background_points_B = find_foreground_background_points(\n",
    "    gene_name=gene_b,\n",
    "    dge_matrix=dge_matrix,\n",
    "    tsne_results=tsne_results,\n",
    "    dbscan_df=dbscan_results,\n",
    "    threshold=threshold,\n",
    "    selected_clusters=clusters\n",
    ")\n",
    "vantage_point_B = np.mean(background_points_B, axis=0)\n",
    "rsp_area_B, differences_B, rmsd_B = calculate_rsp_area(\n",
    "    fg_points=foreground_points_B,\n",
    "    bg_points=background_points_B,\n",
    "    vantage_point=vantage_point_B,\n",
    "    scanning_window=scanning_window,\n",
    "    resolution=resolution,\n",
    "    angle_range=angle_range,\n",
    "    mode=mode\n",
    ")"
   ]
  },
  {
   "cell_type": "code",
   "execution_count": null,
   "metadata": {},
   "outputs": [],
   "source": [
    "# Compute correlation coefficient and p-value\n",
    "correlation_coefficient, p_value = pearsonr(differences_A, differences_B)\n",
    "print(f\"Correlation Coefficient: {correlation_coefficient}\")\n",
    "print(f\"P-value: {p_value}\")\n",
    "\n",
    "# Compute Euclidean distance and MSE\n",
    "euclidean_distance = np.linalg.norm(differences_A - differences_B)\n",
    "mse = np.mean((differences_A - differences_B) ** 2)\n",
    "print(f\"Euclidean Distance: {euclidean_distance}\")\n",
    "print(f\"Mean Squared Error: {mse}\")"
   ]
  },
  {
   "cell_type": "markdown",
   "metadata": {},
   "source": [
    "## Additional Metrics\n",
    "\n",
    "We can also calculate additional metrics through Mutual Information (MI), Earth Mover's Distance (EMD), Spearman's Correlation Coefficient (SCC), Cross-correlation (CC), and Kolmogorov-Smirnov (KS) tests. These metrics can be used to evaluate the similarity between the two RSP profiles."
   ]
  },
  {
   "cell_type": "code",
   "execution_count": null,
   "metadata": {},
   "outputs": [],
   "source": [
    "from sklearn.metrics import mutual_info_score\n",
    "from scipy.stats import ks_2samp, spearmanr, wasserstein_distance\n",
    "\n",
    "# 1. Mutual Information\n",
    "mi = mutual_info_score(differences_A, differences_B)\n",
    "\n",
    "# 2. Earth Mover's Distance\n",
    "emd = wasserstein_distance(differences_A, differences_B)\n",
    "\n",
    "# 3. Spearman's Correlation\n",
    "spearman_coefficient, spearman_p = spearmanr(differences_A, differences_B)\n",
    "\n",
    "# 4. Cross-correlation\n",
    "cross_corr = np.correlate(differences_A - np.mean(differences_A), differences_B - np.mean(differences_B), mode='full')\n",
    "lags = np.arange(-len(differences_A)+1, len(differences_A))\n",
    "max_corr = np.max(cross_corr)\n",
    "lag_at_max_corr = lags[np.argmax(cross_corr)]\n",
    "\n",
    "# 5. KS Test\n",
    "ks_statistic, ks_p_value = ks_2samp(differences_A, differences_B)\n",
    "\n",
    "print(f\"Mutual Information: {mi}\")\n",
    "print(f\"Earth Mover's Distance: {emd}\")\n",
    "print(f\"Spearman Correlation Coefficient: {spearman_coefficient}, P-value: {spearman_p}\")\n",
    "print(f\"Maximum Cross-Correlation: {max_corr}, Lag: {lag_at_max_corr}\")\n",
    "print(f\"KS Statistic: {ks_statistic}, P-value: {ks_p_value}\")"
   ]
  }
 ],
 "metadata": {
  "kernelspec": {
   "display_name": ".venv",
   "language": "python",
   "name": "python3"
  },
  "language_info": {
   "codemirror_mode": {
    "name": "ipython",
    "version": 3
   },
   "file_extension": ".py",
   "mimetype": "text/x-python",
   "name": "python",
   "nbconvert_exporter": "python",
   "pygments_lexer": "ipython3",
   "version": "3.10.9"
  }
 },
 "nbformat": 4,
 "nbformat_minor": 2
}
