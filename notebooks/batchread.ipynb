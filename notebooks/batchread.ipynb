{
 "cells": [
  {
   "cell_type": "markdown",
   "metadata": {},
   "source": []
  },
  {
   "cell_type": "code",
   "execution_count": 1,
   "metadata": {},
   "outputs": [],
   "source": [
    "# Import necessary libraries\n",
    "import os\n",
    "import numpy as np\n",
    "import pandas as pd\n",
    "import matplotlib.pyplot as plt\n",
    "\n",
    "from ipynb.fs.full.biorsp import (\n",
    "    find_foreground_background_points,\n",
    "    # calculate_differences,\n",
    "    rsp,\n",
    ")"
   ]
  },
  {
   "cell_type": "code",
   "execution_count": 2,
   "metadata": {},
   "outputs": [],
   "source": [
    "# Load your data\n",
    "dge_matrix = pd.read_csv(\"data/MCA2_filtered.dge.txt\", sep=\"\\t\", index_col=0)\n",
    "tsne_results = pd.read_csv(\"embeddings/tsne_results.csv\").to_numpy()\n",
    "dbscan_results = pd.read_csv(\"embeddings/tsne_dbscan_results.csv\")"
   ]
  },
  {
   "cell_type": "code",
   "execution_count": 3,
   "metadata": {},
   "outputs": [],
   "source": [
    "results = pd.DataFrame(columns=['gene', 'coverage', 'rsp_area', 'rmsd', 'deviation_score'])"
   ]
  },
  {
   "cell_type": "code",
   "execution_count": 4,
   "metadata": {},
   "outputs": [],
   "source": [
    "threshold = 1 # Define the threshold for foreground points - default is 1\n",
    "clusters = None # Define the clusters to be considered as foreground - default is None (look at all clusters)\n",
    "scanning_window=np.pi / 2 # Define the scanning window - default is pi/2\n",
    "resolution=1000 # Define the resolution - default is 1000\n",
    "angle_range=np.array([0, 2 * np.pi]) # Define the angle range - default is [0, 2*pi]\n",
    "mode=\"absolute\",  # Define the mode for CDFs - default is \"absolute\""
   ]
  },
  {
   "cell_type": "code",
   "execution_count": 5,
   "metadata": {},
   "outputs": [],
   "source": [
    "gene_list = dge_matrix.index"
   ]
  },
  {
   "cell_type": "code",
   "execution_count": null,
   "metadata": {},
   "outputs": [],
   "source": [
    "for gene in gene_list:\n",
    "    print(f\"Working on {gene}\")\n",
    "    foreground_points, background_points = find_foreground_background_points(\n",
    "        gene_name=gene,\n",
    "        dge_matrix=dge_matrix,\n",
    "        tsne_results=tsne_results,\n",
    "        threshold=threshold,\n",
    "        dbscan_df=dbscan_results,\n",
    "        selected_clusters=clusters,\n",
    "    )\n",
    "\n",
    "    if len(foreground_points) == 0:\n",
    "        print(f\"No foreground points found for {gene}, skipping...\")\n",
    "        continue\n",
    "\n",
    "    vantage_point = background_points.mean(axis=0)\n",
    "    coverage = len(foreground_points) / len(background_points)\n",
    "\n",
    "    rsp_area, rmsd, deviation_score = rsp(\n",
    "        foreground_points,\n",
    "        background_points,\n",
    "        vantage_point=vantage_point,\n",
    "        scanning_window=scanning_window,\n",
    "        resolution=resolution,\n",
    "        angle_range=angle_range,\n",
    "        mode=mode,\n",
    "    )\n",
    "\n",
    "    print(f\"RSP Area: {rsp_area}\")\n",
    "    print(f\"RMSD: {rmsd}\")\n",
    "    print(f\"Deviation Score: {deviation_score}\")\n",
    "    print(\"\\n\")\n",
    "\n",
    "    results.loc[len(results)] = [gene, coverage, rsp_area, rmsd, deviation_score]"
   ]
  },
  {
   "cell_type": "code",
   "execution_count": 10,
   "metadata": {},
   "outputs": [],
   "source": [
    "os.makedirs(\"results\", exist_ok=True)\n",
    "results.sort_values(by='rsp_area', ascending=True).to_csv(\"results/rsp_results.csv\", index=False)"
   ]
  }
 ],
 "metadata": {
  "kernelspec": {
   "display_name": ".venv",
   "language": "python",
   "name": "python3"
  },
  "language_info": {
   "codemirror_mode": {
    "name": "ipython",
    "version": 3
   },
   "file_extension": ".py",
   "mimetype": "text/x-python",
   "name": "python",
   "nbconvert_exporter": "python",
   "pygments_lexer": "ipython3",
   "version": "3.10.9"
  }
 },
 "nbformat": 4,
 "nbformat_minor": 2
}
