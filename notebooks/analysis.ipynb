{
 "cells": [
  {
   "cell_type": "markdown",
   "metadata": {},
   "source": [
    "# Sample analysis\n",
    "This notebook shows how to perform a basic bioRSP analysis."
   ]
  },
  {
   "cell_type": "code",
   "execution_count": 1,
   "metadata": {},
   "outputs": [],
   "source": [
    "import numpy as np\n",
    "import pandas as pd\n",
    "import matplotlib.pyplot as plt\n",
    "\n",
    "from ipynb.fs.full.biorsp import (\n",
    "    find_foreground_background_points,\n",
    "    calculate_differences,\n",
    "    convert_to_polar,\n",
    "    rsp,\n",
    ")"
   ]
  },
  {
   "cell_type": "code",
   "execution_count": 2,
   "metadata": {},
   "outputs": [],
   "source": [
    "dge_matrix = pd.read_csv(\"data/MCA2_filtered.dge.txt\", sep=\"\\t\", index_col=0)\n",
    "tsne_results = pd.read_csv(\"embeddings/tsne_results.csv\").to_numpy()\n",
    "dbscan_results = pd.read_csv(\"embeddings/tsne_dbscan_results.csv\")"
   ]
  },
  {
   "cell_type": "code",
   "execution_count": 3,
   "metadata": {},
   "outputs": [],
   "source": [
    "gene_name = \"Tnnt2\" # Change this to your gene of interest\n",
    "threshold = 10 # Define the threshold for foreground points - default is 1\n",
    "clusters = [1] # Define the clusters to be considered as foreground - default is None (look at all clusters)"
   ]
  },
  {
   "cell_type": "code",
   "execution_count": 4,
   "metadata": {},
   "outputs": [],
   "source": [
    "foreground_points, background_points = find_foreground_background_points(\n",
    "    gene_name=gene_name,\n",
    "    dge_matrix=dge_matrix,\n",
    "    tsne_results=tsne_results,\n",
    "    threshold=threshold,\n",
    "    dbscan_df=dbscan_results,\n",
    "    selected_clusters=clusters,\n",
    ")"
   ]
  },
  {
   "cell_type": "code",
   "execution_count": null,
   "metadata": {},
   "outputs": [],
   "source": [
    "# Plot background and foreground points\n",
    "gene_projection = plt.figure()\n",
    "plt.scatter(background_points[:, 0], background_points[:, 1], color=\"grey\", s=1)\n",
    "plt.scatter(foreground_points[:, 0], foreground_points[:, 1], color=\"red\", s=1)\n",
    "# plt.title(f\"t-SNE Projection of {gene_name} (threshold: {threshold})\")\n",
    "plt.show()"
   ]
  },
  {
   "cell_type": "code",
   "execution_count": 6,
   "metadata": {},
   "outputs": [],
   "source": [
    "vantage_point = background_points.mean(axis=0)"
   ]
  },
  {
   "cell_type": "code",
   "execution_count": null,
   "metadata": {},
   "outputs": [],
   "source": [
    "vantage_point_figure = plt.figure()\n",
    "plt.scatter(background_points[:, 0], background_points[:, 1], color=\"grey\", s=1)\n",
    "plt.scatter(foreground_points[:, 0], foreground_points[:, 1], color=\"red\", s=1)\n",
    "plt.scatter(vantage_point[0], vantage_point[1], color=\"black\", s=100, marker=\"x\", linewidth=5)\n",
    "plt.legend([\"Background\", \"Foreground\", \"Vantage Point\"])\n",
    "plt.show()"
   ]
  },
  {
   "cell_type": "code",
   "execution_count": 8,
   "metadata": {},
   "outputs": [],
   "source": [
    "fg_r, fg_theta = convert_to_polar(foreground_points, vantage_point)\n",
    "bg_r, bg_theta = convert_to_polar(background_points, vantage_point)"
   ]
  },
  {
   "cell_type": "code",
   "execution_count": null,
   "metadata": {},
   "outputs": [],
   "source": [
    "polar_projection = plt.figure()\n",
    "plt.subplot(polar=True)\n",
    "plt.scatter(bg_theta, bg_r, color=\"grey\", s=1)\n",
    "plt.scatter(fg_theta, fg_r, color=\"red\", s=1)\n",
    "# plt.title(f\"Polar Projection of {gene_name} (threshold: {threshold})\")\n",
    "plt.show()"
   ]
  },
  {
   "cell_type": "code",
   "execution_count": null,
   "metadata": {},
   "outputs": [],
   "source": [
    "rsp_area, rmsd, deviation_score = rsp(\n",
    "    foreground_points,\n",
    "    background_points,\n",
    "    vantage_point,\n",
    "    scanning_window=np.pi / 2,\n",
    "    resolution=1000,\n",
    "    angle_range=np.array([0, 2 * np.pi]),\n",
    "    mode=\"absolute\",\n",
    ")\n",
    "print(f\"RSP Area: {rsp_area}\")\n",
    "print(f\"RMSD: {rmsd}\")\n",
    "print(f\"Deviation Score: {deviation_score}\")"
   ]
  },
  {
   "cell_type": "code",
   "execution_count": null,
   "metadata": {},
   "outputs": [],
   "source": [
    "rsp_figure = plt.figure()\n",
    "plt.subplot(polar=True)\n",
    "\n",
    "differences = calculate_differences(\n",
    "    fg_points=foreground_points,\n",
    "    bg_points=background_points,\n",
    "    scanning_window=np.pi / 2,\n",
    "    resolution=1000,\n",
    "    vantage_point=vantage_point,\n",
    "    angle_range=np.array([0, 2 * np.pi]),\n",
    "    mode=\"absolute\",\n",
    ")\n",
    "\n",
    "plt.plot(np.linspace(0, 2 * np.pi, 1000), differences, color=\"red\")\n",
    "plt.show()"
   ]
  },
  {
   "cell_type": "code",
   "execution_count": null,
   "metadata": {},
   "outputs": [],
   "source": [
    "# get me the uniform radius\n",
    "radius = np.sqrt(rsp_area / np.pi)\n",
    "\n",
    "compare_figure = plt.figure()\n",
    "plt.subplot(polar=True)\n",
    "\n",
    "plt.plot(np.linspace(0, 2 * np.pi, 1000), np.ones(1000) * radius, color=\"black\")\n",
    "plt.plot(np.linspace(0, 2 * np.pi, 1000), differences, color=\"red\")\n",
    "\n",
    "# overlap = np.minimum(radius, differences)\n",
    "# plt.fill(np.linspace(0, 2 * np.pi, 1000), overlap, color=\"gray\", alpha=0.5)\n",
    "\n",
    "plt.show()"
   ]
  }
 ],
 "metadata": {
  "kernelspec": {
   "display_name": ".venv",
   "language": "python",
   "name": "python3"
  },
  "language_info": {
   "codemirror_mode": {
    "name": "ipython",
    "version": 3
   },
   "file_extension": ".py",
   "mimetype": "text/x-python",
   "name": "python",
   "nbconvert_exporter": "python",
   "pygments_lexer": "ipython3",
   "version": "3.10.9"
  }
 },
 "nbformat": 4,
 "nbformat_minor": 2
}
