{
 "cells": [
  {
   "cell_type": "markdown",
   "metadata": {},
   "source": [
    "# Dimensionality Reduction and Clustering"
   ]
  },
  {
   "cell_type": "code",
   "execution_count": 33,
   "metadata": {},
   "outputs": [],
   "source": [
    "import pandas as pd\n",
    "import matplotlib.pyplot as plt"
   ]
  },
  {
   "cell_type": "code",
   "execution_count": 34,
   "metadata": {},
   "outputs": [],
   "source": [
    "dge_matrix_filtered = pd.read_csv(\n",
    "    \"data/MCA2_filtered.dge.txt\", delimiter=\"\\t\", index_col=0\n",
    ")"
   ]
  },
  {
   "cell_type": "code",
   "execution_count": 35,
   "metadata": {},
   "outputs": [],
   "source": [
    "random_state = 42\n",
    "min_neighbors = 50"
   ]
  },
  {
   "cell_type": "code",
   "execution_count": 36,
   "metadata": {},
   "outputs": [],
   "source": [
    "import os\n",
    "\n",
    "os.makedirs(\"figures\", exist_ok=True)\n",
    "os.makedirs(\"embeddings\", exist_ok=True)"
   ]
  },
  {
   "cell_type": "code",
   "execution_count": null,
   "metadata": {},
   "outputs": [],
   "source": [
    "# t-SNE\n",
    "from sklearn.manifold import TSNE\n",
    "\n",
    "tsne = TSNE(n_components=2, perplexity=30, random_state=random_state, max_iter=1000)\n",
    "tsne_results = tsne.fit_transform(dge_matrix_filtered.T)\n",
    "\n",
    "# Plot the t-SNE results\n",
    "tsne_fig = plt.figure()\n",
    "plt.scatter(tsne_results[:, 0], tsne_results[:, 1], s=1)\n",
    "plt.xlabel(\"x\")\n",
    "plt.ylabel(\"y\")\n",
    "plt.show()\n",
    "tsne_fig.savefig(\"figures/tsne_plot.png\")\n",
    "\n",
    "tsne_results_df = pd.DataFrame(tsne_results, columns=[\"x\", \"y\"])\n",
    "tsne_results_df.to_csv(\"embeddings/tsne_results.csv\", index=False)"
   ]
  },
  {
   "cell_type": "code",
   "execution_count": null,
   "metadata": {},
   "outputs": [],
   "source": [
    "# UMAP\n",
    "from umap import UMAP\n",
    "\n",
    "umap_reducer = UMAP(n_neighbors=15, min_dist=0.1, random_state=random_state)\n",
    "umap_results = umap_reducer.fit_transform(dge_matrix_filtered.T)\n",
    "\n",
    "# Plot the UMAP results\n",
    "umap_fig = plt.figure()\n",
    "plt.scatter(umap_results[:, 0], umap_results[:, 1], s=1)\n",
    "plt.xlabel(\"x\")\n",
    "plt.ylabel(\"y\")\n",
    "plt.show()\n",
    "umap_fig.savefig(\"figures/umap_plot.png\")\n",
    "\n",
    "umap_results_df = pd.DataFrame(umap_results, columns=[\"x\", \"y\"])\n",
    "umap_results_df.to_csv(\"embeddings/umap_results.csv\", index=False)"
   ]
  },
  {
   "cell_type": "code",
   "execution_count": null,
   "metadata": {},
   "outputs": [],
   "source": [
    "# DBSCAN\n",
    "from sklearn.cluster import DBSCAN\n",
    "\n",
    "dbscan = DBSCAN(eps=4, min_samples=50)\n",
    "dbscan_labels = dbscan.fit_predict(\n",
    "    tsne_results\n",
    ")  # Use either tsne_results or umap_results\n",
    "dbscan_labels += 1\n",
    "\n",
    "# Visualize clusters\n",
    "tsne_dbscan_fig = plt.figure()\n",
    "scatter = plt.scatter(\n",
    "    tsne_results[:, 0], tsne_results[:, 1], c=dbscan_labels, s=1, cmap=\"tab20\"\n",
    ")\n",
    "# legend = plt.legend(*scatter.legend_elements(), title=\"Cluster\")\n",
    "\n",
    "# for i in range(len(legend.get_texts())):\n",
    "#     legend.get_texts()[i].set_text(f\"{i}\")\n",
    "\n",
    "# legend.get_texts()[0].set_text(\"Noise\")\n",
    "# plt.gca().add_artist(legend)\n",
    "plt.xlabel(\"x\")\n",
    "plt.ylabel(\"y\")\n",
    "plt.show()\n",
    "tsne_dbscan_fig.savefig(\"figures/tsne_dbscan_plot.png\")\n",
    "\n",
    "dbscan_results_df = pd.DataFrame(dbscan_labels, columns=[\"Cluster\"])\n",
    "dbscan_results_df.to_csv(\"embeddings/tsne_dbscan_results.csv\", index=False)"
   ]
  },
  {
   "cell_type": "code",
   "execution_count": null,
   "metadata": {},
   "outputs": [],
   "source": [
    "dbscan = DBSCAN(eps=0.5, min_samples=20)\n",
    "dbscan_labels = dbscan.fit_predict(\n",
    "    umap_results\n",
    ")  # Use either tsne_results or umap_results\n",
    "dbscan_labels += 1\n",
    "\n",
    "# Visualize clusters\n",
    "umap_dbscan_fig = plt.figure()\n",
    "scatter = plt.scatter(\n",
    "    umap_results[:, 0], umap_results[:, 1], c=dbscan_labels, s=1, cmap=\"tab20\"\n",
    ")\n",
    "# legend = plt.legend(*scatter.legend_elements(), title=\"Cluster\")\n",
    "\n",
    "# for i in range(len(legend.get_texts())):\n",
    "#     legend.get_texts()[i].set_text(f\"{i}\")\n",
    "\n",
    "# legend.get_texts()[0].set_text(\"Noise\")\n",
    "# plt.gca().add_artist(legend)\n",
    "plt.xlabel(\"x\")\n",
    "plt.ylabel(\"y\")\n",
    "plt.show()\n",
    "umap_dbscan_fig.savefig(\"figures/umap_dbscan_plot.png\")\n",
    "\n",
    "dbscan_results_df = pd.DataFrame(dbscan_labels, columns=[\"Cluster\"])\n",
    "dbscan_results_df.to_csv(\"embeddings/umap_dbscan_results.csv\", index=False)"
   ]
  }
 ],
 "metadata": {
  "kernelspec": {
   "display_name": ".venv",
   "language": "python",
   "name": "python3"
  },
  "language_info": {
   "codemirror_mode": {
    "name": "ipython",
    "version": 3
   },
   "file_extension": ".py",
   "mimetype": "text/x-python",
   "name": "python",
   "nbconvert_exporter": "python",
   "pygments_lexer": "ipython3",
   "version": "3.10.9"
  }
 },
 "nbformat": 4,
 "nbformat_minor": 2
}
