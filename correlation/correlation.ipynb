{
 "cells": [
  {
   "cell_type": "markdown",
   "metadata": {},
   "source": [
    "# Correlation analysis\n",
    "\n",
    "This notebook demonstrates how to calculate the correlation between two RSP profiles."
   ]
  },
  {
   "cell_type": "code",
   "execution_count": 124,
   "metadata": {},
   "outputs": [],
   "source": [
    "import numpy as np\n",
    "import pandas as pd\n",
    "from itertools import combinations\n",
    "from tqdm import tqdm  # For progress bar\n",
    "\n",
    "from ipynb.fs.full.biorsp import (\n",
    "    find_foreground_background_points,\n",
    "    calculate_rsp_area,\n",
    "    calculate_deviation_score,\n",
    ")\n",
    "\n",
    "from scipy.stats import spearmanr\n",
    "from statsmodels.stats.multitest import multipletests\n",
    "import matplotlib.pyplot as plt\n",
    "import seaborn as sns"
   ]
  },
  {
   "cell_type": "code",
   "execution_count": 125,
   "metadata": {},
   "outputs": [],
   "source": [
    "# Load your data\n",
    "dge_matrix = pd.read_csv(\"data/MCA2_filtered.dge.txt\", sep=\"\\t\", index_col=0)\n",
    "tsne_results = pd.read_csv(\"embeddings/tsne_results.csv\").to_numpy()\n",
    "dbscan_results = pd.read_csv(\"embeddings/tsne_dbscan_results.csv\")"
   ]
  },
  {
   "cell_type": "code",
   "execution_count": 126,
   "metadata": {},
   "outputs": [],
   "source": [
    "threshold = 1\n",
    "clusters = [1]\n",
    "scanning_window = np.pi / 2\n",
    "resolution = 1000\n",
    "angle_range = np.array([0, 2 * np.pi])\n",
    "mode = \"relative\""
   ]
  },
  {
   "cell_type": "code",
   "execution_count": 127,
   "metadata": {},
   "outputs": [
    {
     "name": "stderr",
     "output_type": "stream",
     "text": [
      "Calculating coverage: 100%|██████████| 16131/16131 [00:19<00:00, 839.71it/s]\n"
     ]
    }
   ],
   "source": [
    "gene_coverage = {}\n",
    "\n",
    "for gene in tqdm(dge_matrix.index, desc=\"Calculating coverage\"):\n",
    "    try:\n",
    "        # Find foreground and background points for the gene\n",
    "        fg, bg = find_foreground_background_points(\n",
    "            gene_name=gene,\n",
    "            dge_matrix=dge_matrix,\n",
    "            tsne_results=tsne_results,\n",
    "            dbscan_df=dbscan_results,\n",
    "            threshold=threshold,\n",
    "            selected_clusters=clusters,\n",
    "        )\n",
    "\n",
    "        # Calculate coverage: (foreground + background) / total_cells * 100\n",
    "        # Assuming foreground and background are mutually exclusive and collectively exhaustive\n",
    "        num_foreground = fg.shape[0]\n",
    "        num_background = bg.shape[0]\n",
    "        coverage = (num_foreground / num_background) * 100\n",
    "        gene_coverage[gene] = coverage\n",
    "    except Exception as e:\n",
    "        # If there's an error processing the gene, assign coverage as 0\n",
    "        print(f\"Error processing gene {gene}: {e}\")\n",
    "        gene_coverage[gene] = 0.0\n",
    "\n",
    "gene_coverage_series = pd.Series(gene_coverage)"
   ]
  },
  {
   "cell_type": "code",
   "execution_count": 128,
   "metadata": {},
   "outputs": [
    {
     "name": "stdout",
     "output_type": "stream",
     "text": [
      "Number of filtered genes: 21\n",
      "Number of gene pairs to analyze: 210\n"
     ]
    }
   ],
   "source": [
    "filtered_genes = gene_coverage_series[\n",
    "    (gene_coverage_series >= 45) & (gene_coverage_series <= 55)\n",
    "].index.tolist()\n",
    "gene_pairs = list(combinations(filtered_genes, 2))\n",
    "\n",
    "print(f\"Number of filtered genes: {len(filtered_genes)}\")\n",
    "print(f\"Number of gene pairs to analyze: {len(gene_pairs)}\")"
   ]
  },
  {
   "cell_type": "code",
   "execution_count": 129,
   "metadata": {},
   "outputs": [
    {
     "name": "stderr",
     "output_type": "stream",
     "text": [
      "Calculating RSP metrics: 100%|██████████| 21/21 [00:03<00:00,  6.97it/s]\n"
     ]
    }
   ],
   "source": [
    "rsp_metrics = {\n",
    "    gene: {\"rsp_area\": None, \"differences\": None, \"deviation_score\": None}\n",
    "    for gene in filtered_genes\n",
    "}\n",
    "\n",
    "for gene in tqdm(filtered_genes, desc=\"Calculating RSP metrics\"):\n",
    "    try:\n",
    "        fg, bg = find_foreground_background_points(\n",
    "            gene_name=gene,\n",
    "            dge_matrix=dge_matrix,\n",
    "            tsne_results=tsne_results,\n",
    "            dbscan_df=dbscan_results,\n",
    "            threshold=threshold,\n",
    "            selected_clusters=clusters,\n",
    "        )\n",
    "\n",
    "        vantage_point = bg.mean(axis=0)\n",
    "\n",
    "        rsp_area, differences, rsmd = calculate_rsp_area(\n",
    "            foreground_points=fg,\n",
    "            background_points=bg,\n",
    "            vantage_point=vantage_point,\n",
    "            scanning_window=scanning_window,\n",
    "            resolution=resolution,\n",
    "            angle_range=angle_range,\n",
    "            mode=mode,\n",
    "        )\n",
    "\n",
    "        deviation_score = calculate_deviation_score(\n",
    "            rsp_area=rsp_area, differences=differences, resolution=resolution\n",
    "        )\n",
    "\n",
    "        rsp_metrics[gene][\"rsp_area\"] = rsp_area\n",
    "        rsp_metrics[gene][\"differences\"] = differences\n",
    "        rsp_metrics[gene][\"deviation_score\"] = deviation_score\n",
    "    except Exception as e:\n",
    "        print(f\"Error computing RSP for gene {gene}: {e}\")\n",
    "        rsp_metrics[gene][\"rsp_area\"] = np.nan\n",
    "        rsp_metrics[gene][\"differences\"] = np.full(resolution, np.nan)\n",
    "        rsp_metrics[gene][\"deviation_score\"] = np.nan"
   ]
  },
  {
   "cell_type": "code",
   "execution_count": 130,
   "metadata": {},
   "outputs": [
    {
     "name": "stdout",
     "output_type": "stream",
     "text": [
      "         rsp_area                                        differences  \\\n",
      "Atp5d    0.014956  [-0.044708572281959374, -0.043865967044094636,...   \n",
      "Atp5f1   0.015292  [-0.04692666245791246, -0.04941035546613011, -...   \n",
      "Chchd10  0.019007  [-0.024748420479302834, -0.026824624274245083,...   \n",
      "Cox6a1   0.013887  [-0.03868730382925299, -0.037126841508823054, ...   \n",
      "Cryab    0.023483  [-0.039921456861485766, -0.04397707815520574, ...   \n",
      "\n",
      "         deviation_score  \n",
      "Atp5d           0.272960  \n",
      "Atp5f1          0.174218  \n",
      "Chchd10         0.124662  \n",
      "Cox6a1          0.117388  \n",
      "Cryab           0.087299  \n"
     ]
    }
   ],
   "source": [
    "rsp_df = pd.DataFrame.from_dict(rsp_metrics, orient=\"index\")\n",
    "print(rsp_df.head())"
   ]
  },
  {
   "cell_type": "code",
   "execution_count": 131,
   "metadata": {},
   "outputs": [],
   "source": [
    "def calculate_overlap(diffs_A, diffs_B):\n",
    "    \"\"\"\n",
    "    Calculate the overlap between two difference arrays.\n",
    "\n",
    "    Parameters:\n",
    "        - diffs_A: Numpy array of differences for gene A.\n",
    "        - diffs_B: Numpy array of differences for gene B.\n",
    "\n",
    "    Returns:\n",
    "        - dissimilarity: 1 - (overlap / total_area)\n",
    "    \"\"\"\n",
    "    overlap = np.sum(np.minimum(diffs_A, diffs_B))\n",
    "    total_area = np.sum(np.maximum(diffs_A, diffs_B))\n",
    "    if total_area == 0:\n",
    "        return np.nan\n",
    "    dissimilarity = 1 - (overlap / total_area)\n",
    "    return dissimilarity"
   ]
  },
  {
   "cell_type": "code",
   "execution_count": 132,
   "metadata": {},
   "outputs": [
    {
     "name": "stderr",
     "output_type": "stream",
     "text": [
      "Calculating dissimilarity: 100%|██████████| 210/210 [00:00<00:00, 8910.69it/s]\n"
     ]
    }
   ],
   "source": [
    "dissimilarity_results = []\n",
    "\n",
    "# Loop over gene pairs and calculate dissimilarity\n",
    "for geneA, geneB in tqdm(gene_pairs, desc=\"Calculating dissimilarity\"):\n",
    "    diffs_A = rsp_df.loc[geneA, 'differences']\n",
    "    diffs_B = rsp_df.loc[geneB, 'differences']\n",
    "    \n",
    "    # Handle NaN or infinite values\n",
    "    if np.isnan(diffs_A).any() or np.isnan(diffs_B).any():\n",
    "        dissimilarity = np.nan\n",
    "    else:\n",
    "        dissimilarity = calculate_overlap(diffs_A, diffs_B)\n",
    "    \n",
    "    dissimilarity_results.append({\n",
    "        'GeneA': geneA,\n",
    "        'GeneB': geneB,\n",
    "        'Dissimilarity_Score': dissimilarity\n",
    "    })"
   ]
  },
  {
   "cell_type": "code",
   "execution_count": 133,
   "metadata": {},
   "outputs": [
    {
     "name": "stdout",
     "output_type": "stream",
     "text": [
      "   GeneA    GeneB  Dissimilarity_Score\n",
      "0  Atp5d   Atp5f1             1.863207\n",
      "1  Atp5d  Chchd10             1.979872\n",
      "2  Atp5d   Cox6a1             1.924479\n",
      "3  Atp5d    Cryab             1.893114\n",
      "4  Atp5d    Gapdh             1.970975\n"
     ]
    }
   ],
   "source": [
    "dissimilarity_df = pd.DataFrame(dissimilarity_results)\n",
    "\n",
    "print(dissimilarity_df.head())"
   ]
  },
  {
   "cell_type": "code",
   "execution_count": 134,
   "metadata": {},
   "outputs": [],
   "source": [
    "dissimilarity_df.to_csv('results/dissimilarity.csv', index=False)"
   ]
  }
 ],
 "metadata": {
  "kernelspec": {
   "display_name": ".venv",
   "language": "python",
   "name": "python3"
  },
  "language_info": {
   "codemirror_mode": {
    "name": "ipython",
    "version": 3
   },
   "file_extension": ".py",
   "mimetype": "text/x-python",
   "name": "python",
   "nbconvert_exporter": "python",
   "pygments_lexer": "ipython3",
   "version": "3.10.9"
  }
 },
 "nbformat": 4,
 "nbformat_minor": 2
}
